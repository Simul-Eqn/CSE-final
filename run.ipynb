{
 "cells": [
  {
   "cell_type": "code",
   "execution_count": 1,
   "id": "a2107098-de9e-4995-b7fa-4a7b30a32864",
   "metadata": {},
   "outputs": [],
   "source": [
    "#!pip install --trusted-host pypi.org --trusted-host pypi.python.org --trusted-host files.pythonhosted.org --trusted-host files.pythonhosted.org -r requirements.txt --cert DSOCA50.pem --cert DSOVisibilityCA.pem --cert cacert.pem\n",
    "#!pip uninstall dgl \n",
    "#!pip install --trusted-host pypi.org --trusted-host pypi.python.org --trusted-host files.pythonhosted.org --trusted-host files.pythonhosted.org --cert DSOCA50.pem --cert DSOVisibilityCA.pem --cert cacert.pem dgl -f https://data.dgl.ai/wheels/cu117/repo.html\n",
    "#!pip install --trusted-host pypi.org --trusted-host pypi.python.org --trusted-host files.pythonhosted.org --trusted-host files.pythonhosted.org --cert DSOCA50.pem --cert DSOVisibilityCA.pem --cert cacert.pem dglgo -f https://data.dgl.ai/wheels-test/repo.html\n"
   ]
  },
  {
   "cell_type": "code",
   "execution_count": null,
   "id": "d3a4cb51-ff1d-4b8b-805e-a00058cd3951",
   "metadata": {},
   "outputs": [
    {
     "name": "stdout",
     "output_type": "stream",
     "text": [
      "\n",
      "MASS SPEC TRAINING:\n"
     ]
    }
   ],
   "source": [
    "import sys \n",
    "sys.path.insert(0, \"./RL_attempt/\") \n",
    "\n",
    "print(\"\\nMASS SPEC TRAINING:\")\n",
    "import mass_spec_training \n",
    "\n",
    "print(\"\\nIMITATION LEARNING TRAINING:\")\n",
    "import imitation_learning \n",
    "\n",
    "print(\"\\nHINDSIGHT EXPERIENCE REPLAY TRAINING:\")\n",
    "import hindsight_experience_replay "
   ]
  },
  {
   "cell_type": "code",
   "execution_count": null,
   "id": "f149682f-b3d5-445a-9459-44af85e0bc04",
   "metadata": {},
   "outputs": [],
   "source": []
  }
 ],
 "metadata": {
  "kernelspec": {
   "display_name": "Python 3 (ipykernel)",
   "language": "python",
   "name": "python3"
  },
  "language_info": {
   "codemirror_mode": {
    "name": "ipython",
    "version": 3
   },
   "file_extension": ".py",
   "mimetype": "text/x-python",
   "name": "python",
   "nbconvert_exporter": "python",
   "pygments_lexer": "ipython3",
   "version": "3.8.13"
  }
 },
 "nbformat": 4,
 "nbformat_minor": 5
}
