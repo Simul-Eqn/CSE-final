{
 "cells": [
  {
   "cell_type": "code",
   "execution_count": 15,
   "id": "f6279d46-e865-489e-9603-59968f0a013c",
   "metadata": {},
   "outputs": [
    {
     "ename": "FileNotFoundError",
     "evalue": "[Errno 2] No such file or directory: '../RL_attempt/data/bonds.csv'",
     "output_type": "error",
     "traceback": [
      "\u001b[0;31m---------------------------------------------------------------------------\u001b[0m",
      "\u001b[0;31mFileNotFoundError\u001b[0m                         Traceback (most recent call last)",
      "Input \u001b[0;32mIn [15]\u001b[0m, in \u001b[0;36m<cell line: 13>\u001b[0;34m()\u001b[0m\n\u001b[1;32m     10\u001b[0m \u001b[38;5;28;01mfrom\u001b[39;00m \u001b[38;5;21;01mrdkit\u001b[39;00m \u001b[38;5;28;01mimport\u001b[39;00m Chem \n\u001b[1;32m     11\u001b[0m \u001b[38;5;28;01mfrom\u001b[39;00m \u001b[38;5;21;01mrdkit\u001b[39;00m\u001b[38;5;21;01m.\u001b[39;00m\u001b[38;5;21;01mChem\u001b[39;00m\u001b[38;5;21;01m.\u001b[39;00m\u001b[38;5;21;01mrdMolDescriptors\u001b[39;00m \u001b[38;5;28;01mimport\u001b[39;00m CalcMolFormula \n\u001b[0;32m---> 13\u001b[0m \u001b[38;5;28;01mfrom\u001b[39;00m \u001b[38;5;21;01magent\u001b[39;00m \u001b[38;5;28;01mimport\u001b[39;00m \u001b[38;5;241m*\u001b[39m \n\u001b[1;32m     14\u001b[0m \u001b[38;5;28;01mfrom\u001b[39;00m \u001b[38;5;21;01menvironment\u001b[39;00m \u001b[38;5;28;01mimport\u001b[39;00m \u001b[38;5;241m*\u001b[39m \n\u001b[1;32m     15\u001b[0m \u001b[38;5;28;01mfrom\u001b[39;00m \u001b[38;5;21;01mrepresentations\u001b[39;00m \u001b[38;5;28;01mimport\u001b[39;00m \u001b[38;5;241m*\u001b[39m \n",
      "File \u001b[0;32m~/./RL_attempt/agent.py:13\u001b[0m, in \u001b[0;36m<module>\u001b[0;34m\u001b[0m\n\u001b[1;32m     10\u001b[0m \u001b[38;5;28;01mimport\u001b[39;00m \u001b[38;5;21;01mnumpy\u001b[39;00m \u001b[38;5;28;01mas\u001b[39;00m \u001b[38;5;21;01mnp\u001b[39;00m \n\u001b[1;32m     12\u001b[0m \u001b[38;5;28;01mimport\u001b[39;00m \u001b[38;5;21;01mparams\u001b[39;00m \n\u001b[0;32m---> 13\u001b[0m \u001b[38;5;28;01mfrom\u001b[39;00m \u001b[38;5;21;01mrepresentations\u001b[39;00m \u001b[38;5;28;01mimport\u001b[39;00m Action, MolState, MassSpec \n\u001b[1;32m     14\u001b[0m \u001b[38;5;28;01mfrom\u001b[39;00m \u001b[38;5;21;01menvironment\u001b[39;00m \u001b[38;5;28;01mimport\u001b[39;00m EnvMolecule \n\u001b[1;32m     16\u001b[0m \u001b[38;5;28;01mimport\u001b[39;00m \u001b[38;5;21;01mrandom\u001b[39;00m \n",
      "File \u001b[0;32m~/./RL_attempt/representations.py:20\u001b[0m, in \u001b[0;36m<module>\u001b[0;34m\u001b[0m\n\u001b[1;32m     16\u001b[0m \u001b[38;5;28;01mimport\u001b[39;00m \u001b[38;5;21;01mnetworkx\u001b[39;00m \u001b[38;5;28;01mas\u001b[39;00m \u001b[38;5;21;01mnx\u001b[39;00m \n\u001b[1;32m     18\u001b[0m \u001b[38;5;28;01mimport\u001b[39;00m \u001b[38;5;21;01mcopy\u001b[39;00m \n\u001b[0;32m---> 20\u001b[0m \u001b[38;5;28;01mimport\u001b[39;00m \u001b[38;5;21;01mutils\u001b[39;00m \n\u001b[1;32m     21\u001b[0m \u001b[38;5;28;01mimport\u001b[39;00m \u001b[38;5;21;01mparams\u001b[39;00m \n\u001b[1;32m     22\u001b[0m \u001b[38;5;28;01mfrom\u001b[39;00m \u001b[38;5;21;01mGCN\u001b[39;00m \u001b[38;5;28;01mimport\u001b[39;00m GCN, GCN_edge_conditional\n",
      "File \u001b[0;32m~/./RL_attempt/utils.py:66\u001b[0m, in \u001b[0;36m<module>\u001b[0;34m\u001b[0m\n\u001b[1;32m     57\u001b[0m     \u001b[38;5;28;01mreturn\u001b[39;00m res \n\u001b[1;32m     60\u001b[0m \u001b[38;5;66;03m# Format of BondDBFile: \u001b[39;00m\n\u001b[1;32m     61\u001b[0m \u001b[38;5;66;03m# a,b,btype,energy \u001b[39;00m\n\u001b[1;32m     62\u001b[0m \u001b[38;5;66;03m# a and b are atomic numbers of bonds \u001b[39;00m\n\u001b[1;32m     63\u001b[0m \u001b[38;5;66;03m# btype is bond type, as above, 0-indexed \u001b[39;00m\n\u001b[1;32m     64\u001b[0m \u001b[38;5;66;03m# energy is float in kJ/mol \u001b[39;00m\n\u001b[0;32m---> 66\u001b[0m bondDBFile \u001b[38;5;241m=\u001b[39m \u001b[38;5;28;43mopen\u001b[39;49m\u001b[43m(\u001b[49m\u001b[38;5;124;43m\"\u001b[39;49m\u001b[38;5;124;43m../RL_attempt/data/bonds.csv\u001b[39;49m\u001b[38;5;124;43m\"\u001b[39;49m\u001b[43m,\u001b[49m\u001b[43m \u001b[49m\u001b[38;5;124;43m'\u001b[39;49m\u001b[38;5;124;43mr\u001b[39;49m\u001b[38;5;124;43m'\u001b[39;49m\u001b[43m)\u001b[49m \u001b[38;5;66;03m# TODO: FILL UP THIS \u001b[39;00m\n\u001b[1;32m     67\u001b[0m raw_bondDB \u001b[38;5;241m=\u001b[39m bondDBFile\u001b[38;5;241m.\u001b[39mreadlines() \n\u001b[1;32m     68\u001b[0m bondDBFile\u001b[38;5;241m.\u001b[39mclose() \n",
      "\u001b[0;31mFileNotFoundError\u001b[0m: [Errno 2] No such file or directory: '../RL_attempt/data/bonds.csv'"
     ]
    }
   ],
   "source": [
    "import sys\n",
    "sys.path.insert(0, \"./RL_attempt/\") \n",
    "\n",
    "import os\n",
    "os.environ['DGLBACKEND'] = 'pytorch'\n",
    "\n",
    "import dgl \n",
    "import torch \n",
    "import torch.nn as nn \n",
    "from rdkit import Chem \n",
    "from rdkit.Chem.rdMolDescriptors import CalcMolFormula \n",
    "\n",
    "from agent import * \n",
    "from environment import * \n",
    "from representations import * \n",
    "\n",
    "import dataloader \n",
    "import utils \n",
    "import params \n",
    "\n",
    "import copy \n",
    "import random \n",
    "\n",
    "#device = torch.device(\"cuda\") if torch.cuda.is_available() else torch.device(\"cpu\") \n",
    "device = torch.device(\"cpu\") \n",
    "\n",
    "random.seed(10) \n",
    "\n",
    "replay_size = params.replay_buffer_size "
   ]
  }
 ],
 "metadata": {
  "kernelspec": {
   "display_name": "Python 3 (ipykernel)",
   "language": "python",
   "name": "python3"
  },
  "language_info": {
   "codemirror_mode": {
    "name": "ipython",
    "version": 3
   },
   "file_extension": ".py",
   "mimetype": "text/x-python",
   "name": "python",
   "nbconvert_exporter": "python",
   "pygments_lexer": "ipython3",
   "version": "3.8.13"
  }
 },
 "nbformat": 4,
 "nbformat_minor": 5
}
