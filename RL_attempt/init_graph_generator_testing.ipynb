{
 "cells": [
  {
   "cell_type": "code",
   "execution_count": 1,
   "id": "cecebbe4-5aee-4183-ab72-d7eb413f2235",
   "metadata": {},
   "outputs": [],
   "source": [
    "#!pip install --trusted-host pypi.org --trusted-host pypi.python.org --trusted-host files.pythonhosted.org --trusted-host files.pythonhosted.org -r requirements.txt --cert DSOCA50.pem --cert DSOVisibilityCA.pem --cert cacert.pem"
   ]
  },
  {
   "cell_type": "code",
   "execution_count": 2,
   "id": "d966cfe0-f8c8-4ff4-8c8b-135c24a21992",
   "metadata": {},
   "outputs": [
    {
     "name": "stdout",
     "output_type": "stream",
     "text": [
      "Fri Dec  1 02:26:52 2023       \n",
      "+-----------------------------------------------------------------------------+\n",
      "| NVIDIA-SMI 470.57.02    Driver Version: 470.57.02    CUDA Version: 11.7     |\n",
      "|-------------------------------+----------------------+----------------------+\n",
      "| GPU  Name        Persistence-M| Bus-Id        Disp.A | Volatile Uncorr. ECC |\n",
      "| Fan  Temp  Perf  Pwr:Usage/Cap|         Memory-Usage | GPU-Util  Compute M. |\n",
      "|                               |                      |               MIG M. |\n",
      "|===============================+======================+======================|\n",
      "|   0  NVIDIA A40          Off  | 00000000:01:00.0 Off |                    0 |\n",
      "|  0%   34C    P8    34W / 300W |      0MiB / 45634MiB |      0%      Default |\n",
      "|                               |                      |                  N/A |\n",
      "+-------------------------------+----------------------+----------------------+\n",
      "                                                                               \n",
      "+-----------------------------------------------------------------------------+\n",
      "| Processes:                                                                  |\n",
      "|  GPU   GI   CI        PID   Type   Process name                  GPU Memory |\n",
      "|        ID   ID                                                   Usage      |\n",
      "|=============================================================================|\n",
      "|  No running processes found                                                 |\n",
      "+-----------------------------------------------------------------------------+\n"
     ]
    }
   ],
   "source": [
    "!nvidia-smi"
   ]
  },
  {
   "cell_type": "code",
   "execution_count": 3,
   "id": "d74c7ee7-b13f-4262-bcea-f6ed65db1d06",
   "metadata": {},
   "outputs": [
    {
     "name": "stdout",
     "output_type": "stream",
     "text": [
      "96\n"
     ]
    }
   ],
   "source": [
    "!nproc"
   ]
  },
  {
   "cell_type": "code",
   "execution_count": 4,
   "id": "0a378871-b862-491e-bd07-576222645ff4",
   "metadata": {},
   "outputs": [],
   "source": [
    "import sys \n",
    "sys.path.insert(0, \"./RL_attempt/\") "
   ]
  },
  {
   "cell_type": "code",
   "execution_count": 5,
   "id": "049276aa-045b-4a0e-bd10-fdfc0d3b9174",
   "metadata": {},
   "outputs": [],
   "source": [
    "import agent, dataloader, environment, GCN, params, representations, utils, uvfa"
   ]
  },
  {
   "cell_type": "code",
   "execution_count": 6,
   "id": "5b451d5e-e2e9-46d8-b345-9bdf1bbf3065",
   "metadata": {},
   "outputs": [],
   "source": [
    "import os\n",
    "os.environ['DGLBACKEND'] = 'pytorch'\n",
    "import json \n",
    "\n",
    "import torch \n",
    "import torch.nn as nn \n",
    "import torch.nn.functional as F \n",
    "import dgl \n",
    "import networkx as nx \n",
    "\n",
    "#import matplotlib.pyplot as plt\n",
    "\n",
    "import pandas as pd \n",
    "import numpy as np \n",
    "\n",
    "import rdkit\n",
    "from rdkit import Chem\n",
    "import molmass"
   ]
  },
  {
   "cell_type": "code",
   "execution_count": 7,
   "id": "2b02b2b1-e5d1-4b82-ad1b-7638b8e4b028",
   "metadata": {},
   "outputs": [
    {
     "name": "stdout",
     "output_type": "stream",
     "text": [
      "initial graph with no edges\n",
      "tensor([[6., 0., 4.],\n",
      "        [6., 0., 4.],\n",
      "        [6., 0., 4.],\n",
      "        [6., 0., 4.],\n",
      "        [6., 0., 4.],\n",
      "        [6., 0., 4.],\n",
      "        [8., 0., 2.],\n",
      "        [8., 0., 2.],\n",
      "        [8., 0., 2.],\n",
      "        [8., 0., 2.],\n",
      "        [8., 0., 2.],\n",
      "        [8., 0., 2.]])\n",
      "tensor([], dtype=torch.int32)\n"
     ]
    },
    {
     "data": {
      "image/png": "[encoded data removed]",
      "text/plain": [
       "<Figure size 432x288 with 1 Axes>"
      ]
     },
     "metadata": {},
     "output_type": "display_data"
    }
   ],
   "source": [
    "form1 = \"C6H12O6\" \n",
    "g1 = utils.get_init_graph(form1) \n",
    "G1 = dgl.to_networkx(g1) \n",
    "print(\"initial graph with no edges\") \n",
    "print(g1.ndata['features'])\n",
    "print(g1.edata['bondTypes'])\n",
    "nx.draw(G1) "
   ]
  },
  {
   "cell_type": "code",
   "execution_count": 8,
   "id": "0c1f5068-a260-4c3e-bb3c-005575041235",
   "metadata": {},
   "outputs": [
    {
     "name": "stdout",
     "output_type": "stream",
     "text": [
      "initial benzene graph\n",
      "tensor([[6., 0., 1.],\n",
      "        [6., 0., 1.],\n",
      "        [6., 0., 1.],\n",
      "        [6., 0., 1.],\n",
      "        [6., 0., 1.],\n",
      "        [6., 0., 1.],\n",
      "        [8., 0., 2.],\n",
      "        [8., 0., 2.],\n",
      "        [8., 0., 2.],\n",
      "        [8., 0., 2.],\n",
      "        [8., 0., 2.],\n",
      "        [8., 0., 2.]])\n",
      "tensor([3, 3, 3, 3, 3, 3, 3, 3, 3, 3, 3, 3], dtype=torch.int32)\n"
     ]
    },
    {
     "data": {
      "image/png": "[encoded data removed]",
      "text/plain": [
       "<Figure size 432x288 with 1 Axes>"
      ]
     },
     "metadata": {},
     "output_type": "display_data"
    }
   ],
   "source": [
    "g1_b = utils.get_init_one_benzene_graph(form1) \n",
    "G1_b = dgl.to_networkx(g1_b) \n",
    "print(\"initial benzene graph\") \n",
    "print(g1_b.ndata['features']) \n",
    "print(g1_b.edata['bondTypes']) \n",
    "nx.draw(G1_b)\n",
    "# rerun until distance between nodes is far enough to see benzene ring "
   ]
  },
  {
   "cell_type": "code",
   "execution_count": 11,
   "id": "3eaee1eb-22c5-4ffa-988b-22f7b21eb707",
   "metadata": {},
   "outputs": [
    {
     "name": "stdout",
     "output_type": "stream",
     "text": [
      "AssertionError('Not enough carbon atoms!')\n",
      "\n",
      "\n",
      "initial naphthalene graph\n",
      "tensor([[6., 0., 1.],\n",
      "        [6., 0., 1.],\n",
      "        [6., 0., 1.],\n",
      "        [6., 0., 1.],\n",
      "        [6., 0., 0.],\n",
      "        [6., 0., 0.],\n",
      "        [6., 0., 1.],\n",
      "        [6., 0., 1.],\n",
      "        [6., 0., 1.],\n",
      "        [6., 0., 1.],\n",
      "        [6., 0., 4.],\n",
      "        [6., 0., 4.]])\n",
      "tensor([3, 3, 3, 3, 3, 3, 3, 3, 3, 3, 3, 3, 3, 3, 3, 3, 3, 3, 3, 3, 3, 3],\n",
      "       dtype=torch.int32)\n"
     ]
    },
    {
     "data": {
      "image/png": "[encoded data removed]",
      "text/plain": [
       "<Figure size 432x288 with 1 Axes>"
      ]
     },
     "metadata": {},
     "output_type": "display_data"
    }
   ],
   "source": [
    "# this will give error \n",
    "try: \n",
    "    g1_b = utils.get_init_two_benzene_graph(form1) \n",
    "    print(\"SUCCESS\") \n",
    "except Exception as e: \n",
    "    print(repr(e))\n",
    "\n",
    "print() \n",
    "print() \n",
    "\n",
    "form2 = \"C12H22\" # no other atoms so that networkx algorithm will more likely have gap between nodes \n",
    "g2 = utils.get_init_naphthalene_graph(form2) \n",
    "G2 = dgl.to_networkx(g2) \n",
    "print(\"initial naphthalene graph\") \n",
    "print(g2.ndata['features']) \n",
    "print(g2.edata['bondTypes']) \n",
    "nx.draw(G2)"
   ]
  },
  {
   "cell_type": "code",
   "execution_count": 10,
   "id": "636d85c6-5b08-4fd7-8235-74cb35d224c5",
   "metadata": {},
   "outputs": [
    {
     "name": "stdout",
     "output_type": "stream",
     "text": [
      "initial 2 benzene graph\n",
      "tensor([[6., 0., 1.],\n",
      "        [6., 0., 1.],\n",
      "        [6., 0., 1.],\n",
      "        [6., 0., 1.],\n",
      "        [6., 0., 1.],\n",
      "        [6., 0., 1.],\n",
      "        [6., 0., 1.],\n",
      "        [6., 0., 1.],\n",
      "        [6., 0., 1.],\n",
      "        [6., 0., 1.],\n",
      "        [6., 0., 1.],\n",
      "        [6., 0., 1.]])\n",
      "tensor([3, 3, 3, 3, 3, 3, 3, 3, 3, 3, 3, 3, 3, 3, 3, 3, 3, 3, 3, 3, 3, 3, 3, 3],\n",
      "       dtype=torch.int32)\n"
     ]
    },
    {
     "data": {
      "image/png": "[encoded data removed]",
      "text/plain": [
       "<Figure size 432x288 with 1 Axes>"
      ]
     },
     "metadata": {},
     "output_type": "display_data"
    }
   ],
   "source": [
    "g2_b = utils.get_init_two_benzene_graph(form2) \n",
    "G2_b = dgl.to_networkx(g2_b) \n",
    "print(\"initial 2 benzene graph\") \n",
    "print(g2_b.ndata['features']) \n",
    "print(g2_b.edata['bondTypes']) \n",
    "nx.draw(G2_b)"
   ]
  }
 ],
 "metadata": {
  "kernelspec": {
   "display_name": "Python 3 (ipykernel)",
   "language": "python",
   "name": "python3"
  },
  "language_info": {
   "codemirror_mode": {
    "name": "ipython",
    "version": 3
   },
   "file_extension": ".py",
   "mimetype": "text/x-python",
   "name": "python",
   "nbconvert_exporter": "python",
   "pygments_lexer": "ipython3",
   "version": "3.8.13"
  }
 },
 "nbformat": 4,
 "nbformat_minor": 5
}
